{
 "cells": [
  {
   "cell_type": "code",
   "execution_count": 1,
   "id": "8d2f9e03-e18d-471d-bec9-fcd04d61bbac",
   "metadata": {},
   "outputs": [],
   "source": [
    "import pandas as pd\n",
    "\n",
    "\n",
    "df = pd.read_csv(\"data/preprocessed_train.csv\", index_col=\"id\")"
   ]
  },
  {
   "cell_type": "code",
   "execution_count": 2,
   "id": "58f03b0b-8c82-44cf-8657-e873895b88ce",
   "metadata": {},
   "outputs": [
    {
     "data": {
      "text/html": [
       "<div>\n",
       "<style scoped>\n",
       "    .dataframe tbody tr th:only-of-type {\n",
       "        vertical-align: middle;\n",
       "    }\n",
       "\n",
       "    .dataframe tbody tr th {\n",
       "        vertical-align: top;\n",
       "    }\n",
       "\n",
       "    .dataframe thead th {\n",
       "        text-align: right;\n",
       "    }\n",
       "</style>\n",
       "<table border=\"1\" class=\"dataframe\">\n",
       "  <thead>\n",
       "    <tr style=\"text-align: right;\">\n",
       "      <th></th>\n",
       "      <th>RhythmScore</th>\n",
       "      <th>AudioLoudness</th>\n",
       "      <th>VocalContent</th>\n",
       "      <th>AcousticQuality</th>\n",
       "      <th>InstrumentalScore</th>\n",
       "      <th>LivePerformanceLikelihood</th>\n",
       "      <th>MoodScore</th>\n",
       "      <th>TrackDurationMs</th>\n",
       "      <th>Energy</th>\n",
       "      <th>BeatsPerMinute</th>\n",
       "    </tr>\n",
       "    <tr>\n",
       "      <th>id</th>\n",
       "      <th></th>\n",
       "      <th></th>\n",
       "      <th></th>\n",
       "      <th></th>\n",
       "      <th></th>\n",
       "      <th></th>\n",
       "      <th></th>\n",
       "      <th></th>\n",
       "      <th></th>\n",
       "      <th></th>\n",
       "    </tr>\n",
       "  </thead>\n",
       "  <tbody>\n",
       "    <tr>\n",
       "      <th>0</th>\n",
       "      <td>0.603610</td>\n",
       "      <td>-7.636942</td>\n",
       "      <td>0.023500</td>\n",
       "      <td>0.000005</td>\n",
       "      <td>0.000001</td>\n",
       "      <td>0.051385</td>\n",
       "      <td>0.409866</td>\n",
       "      <td>290715.6450</td>\n",
       "      <td>0.826267</td>\n",
       "      <td>147.53020</td>\n",
       "    </tr>\n",
       "    <tr>\n",
       "      <th>1</th>\n",
       "      <td>0.639451</td>\n",
       "      <td>-16.267598</td>\n",
       "      <td>0.071520</td>\n",
       "      <td>0.444929</td>\n",
       "      <td>0.349414</td>\n",
       "      <td>0.170522</td>\n",
       "      <td>0.651010</td>\n",
       "      <td>164519.5174</td>\n",
       "      <td>0.145400</td>\n",
       "      <td>136.15963</td>\n",
       "    </tr>\n",
       "    <tr>\n",
       "      <th>3</th>\n",
       "      <td>0.734463</td>\n",
       "      <td>-1.357000</td>\n",
       "      <td>0.052965</td>\n",
       "      <td>0.001651</td>\n",
       "      <td>0.159717</td>\n",
       "      <td>0.086366</td>\n",
       "      <td>0.278745</td>\n",
       "      <td>225567.4651</td>\n",
       "      <td>0.487467</td>\n",
       "      <td>147.91212</td>\n",
       "    </tr>\n",
       "    <tr>\n",
       "      <th>4</th>\n",
       "      <td>0.532968</td>\n",
       "      <td>-13.056437</td>\n",
       "      <td>0.023500</td>\n",
       "      <td>0.068687</td>\n",
       "      <td>0.000001</td>\n",
       "      <td>0.331345</td>\n",
       "      <td>0.477769</td>\n",
       "      <td>213960.6789</td>\n",
       "      <td>0.947333</td>\n",
       "      <td>89.58511</td>\n",
       "    </tr>\n",
       "    <tr>\n",
       "      <th>5</th>\n",
       "      <td>0.594579</td>\n",
       "      <td>-11.715431</td>\n",
       "      <td>0.101701</td>\n",
       "      <td>0.000005</td>\n",
       "      <td>0.259634</td>\n",
       "      <td>0.024300</td>\n",
       "      <td>0.639254</td>\n",
       "      <td>161012.2221</td>\n",
       "      <td>0.938333</td>\n",
       "      <td>151.43602</td>\n",
       "    </tr>\n",
       "  </tbody>\n",
       "</table>\n",
       "</div>"
      ],
      "text/plain": [
       "    RhythmScore  AudioLoudness  VocalContent  AcousticQuality  \\\n",
       "id                                                              \n",
       "0      0.603610      -7.636942      0.023500         0.000005   \n",
       "1      0.639451     -16.267598      0.071520         0.444929   \n",
       "3      0.734463      -1.357000      0.052965         0.001651   \n",
       "4      0.532968     -13.056437      0.023500         0.068687   \n",
       "5      0.594579     -11.715431      0.101701         0.000005   \n",
       "\n",
       "    InstrumentalScore  LivePerformanceLikelihood  MoodScore  TrackDurationMs  \\\n",
       "id                                                                             \n",
       "0            0.000001                   0.051385   0.409866      290715.6450   \n",
       "1            0.349414                   0.170522   0.651010      164519.5174   \n",
       "3            0.159717                   0.086366   0.278745      225567.4651   \n",
       "4            0.000001                   0.331345   0.477769      213960.6789   \n",
       "5            0.259634                   0.024300   0.639254      161012.2221   \n",
       "\n",
       "      Energy  BeatsPerMinute  \n",
       "id                            \n",
       "0   0.826267       147.53020  \n",
       "1   0.145400       136.15963  \n",
       "3   0.487467       147.91212  \n",
       "4   0.947333        89.58511  \n",
       "5   0.938333       151.43602  "
      ]
     },
     "execution_count": 2,
     "metadata": {},
     "output_type": "execute_result"
    }
   ],
   "source": [
    "df.head()"
   ]
  },
  {
   "cell_type": "code",
   "execution_count": 3,
   "id": "dab34024-2a06-4985-a962-e702cb5c9a53",
   "metadata": {},
   "outputs": [],
   "source": [
    "from sklearn.metrics import root_mean_squared_error, r2_score\n",
    "import xgboost as xgb\n",
    "from sklearn.model_selection import train_test_split\n",
    "import numpy as np\n",
    "import matplotlib.pyplot as plt\n",
    "import pandas as pd"
   ]
  },
  {
   "cell_type": "code",
   "execution_count": 4,
   "id": "cf3d8e83-bce7-4b20-b62b-df0c40020c90",
   "metadata": {},
   "outputs": [],
   "source": [
    "y = df['BeatsPerMinute']\n",
    "X = df.drop(columns=['BeatsPerMinute'])"
   ]
  },
  {
   "cell_type": "code",
   "execution_count": 5,
   "id": "fbf1ec4d-a473-443c-a7a1-6e553f789b57",
   "metadata": {},
   "outputs": [],
   "source": [
    "X_train, X_test, y_train, y_test = train_test_split(X, y, test_size=0.25, random_state=0)"
   ]
  },
  {
   "cell_type": "code",
   "execution_count": 6,
   "id": "2ff9b0a6-5605-451b-87b5-ef22eeced77b",
   "metadata": {},
   "outputs": [],
   "source": [
    "xgb_train = xgb.DMatrix(X_train, y_train, enable_categorical=True)\n",
    "xgb_test = xgb.DMatrix(X_test, y_test, enable_categorical=True)"
   ]
  },
  {
   "cell_type": "code",
   "execution_count": 7,
   "id": "cff0ecc1-761d-41f7-b43c-abeab233abe6",
   "metadata": {},
   "outputs": [],
   "source": [
    "params = {\n",
    "    'objective': 'reg:squarederror',\n",
    "    'max_depth': 5,\n",
    "    'learning_rate': 0.01,\n",
    "}\n",
    "n = 50\n",
    "model = xgb.train(params=params, dtrain=xgb_train, num_boost_round=n)"
   ]
  },
  {
   "cell_type": "code",
   "execution_count": 8,
   "id": "21b563a2-2f26-4d80-98e9-91ff19e46d10",
   "metadata": {},
   "outputs": [
    {
     "name": "stdout",
     "output_type": "stream",
     "text": [
      "rmse of the model is: 23.291516279961293\n",
      "r2 of the model is: 0.00010616783492622961\n"
     ]
    }
   ],
   "source": [
    "preds = model.predict(xgb_test)\n",
    "preds = np.round(preds)\n",
    "rmse = root_mean_squared_error(y_test,preds)\n",
    "r2 = r2_score(y_test,preds)\n",
    "print('rmse of the model is:', rmse)\n",
    "print('r2 of the model is:', r2)"
   ]
  },
  {
   "cell_type": "code",
   "execution_count": 9,
   "id": "f36aa84e-b923-4a82-919c-85f94e39a938",
   "metadata": {},
   "outputs": [
    {
     "data": {
      "text/plain": [
       "<matplotlib.collections.PathCollection at 0x12bf8a0f0>"
      ]
     },
     "execution_count": 9,
     "metadata": {},
     "output_type": "execute_result"
    },
    {
     "data": {
      "image/png": "[encoded data removed]",
      "text/plain": [
       "<Figure size 640x480 with 1 Axes>"
      ]
     },
     "metadata": {},
     "output_type": "display_data"
    }
   ],
   "source": [
    "import matplotlib.pyplot as plt\n",
    "\n",
    "\n",
    "\n",
    "plt.scatter(range(len(y_test)), y_test)\n",
    "plt.scatter(range(len(y_test)), preds)"
   ]
  },
  {
   "cell_type": "code",
   "execution_count": 10,
   "id": "d84c9fe2-5fcb-49c2-be49-05e980a50af1",
   "metadata": {},
   "outputs": [
    {
     "name": "stdout",
     "output_type": "stream",
     "text": [
      "Best set of hyperparameters:  {'learning_rate': 0.01, 'max_depth': 3, 'subsample': 1}\n",
      "Best score:  -23.339442134544385\n"
     ]
    }
   ],
   "source": [
    "from sklearn.model_selection import GridSearchCV\n",
    "\n",
    "# Define the hyperparameter grid\n",
    "param_grid = {\n",
    "    'max_depth': [3, 5, 7],\n",
    "    'learning_rate': [0.1, 0.01, 0.001],\n",
    "    'subsample': [0.5, 0.7, 1]\n",
    "}\n",
    "\n",
    "# Create the XGBoost model object\n",
    "xgb_model = xgb.XGBRegressor()\n",
    "\n",
    "# Create the GridSearchCV object\n",
    "grid_search = GridSearchCV(xgb_model, param_grid, cv=5, scoring='neg_root_mean_squared_error')\n",
    "\n",
    "# Fit the GridSearchCV object to the training data\n",
    "grid_search.fit(X_train, y_train)\n",
    "\n",
    "# Print the best set of hyperparameters and the corresponding score\n",
    "print(\"Best set of hyperparameters: \", grid_search.best_params_)\n",
    "print(\"Best score: \", grid_search.best_score_)"
   ]
  },
  {
   "cell_type": "code",
   "execution_count": 11,
   "id": "a0591f2d-b31a-4d37-8d97-c84cf74ec7bc",
   "metadata": {},
   "outputs": [],
   "source": [
    "best_model = grid_search.best_estimator_"
   ]
  },
  {
   "cell_type": "code",
   "execution_count": 12,
   "id": "d159968d-8abe-4c3d-a0b5-3a8d845c734d",
   "metadata": {},
   "outputs": [
    {
     "name": "stdout",
     "output_type": "stream",
     "text": [
      "rmse of the model is: 23.289648163480955\n",
      "r2 of the model is: 0.0002665561252374049\n"
     ]
    }
   ],
   "source": [
    "preds = best_model.predict(X_test)\n",
    "preds = np.round(preds)\n",
    "rmse = root_mean_squared_error(y_test,preds)\n",
    "r2 = r2_score(y_test,preds)\n",
    "print('rmse of the model is:', rmse)\n",
    "print('r2 of the model is:', r2)"
   ]
  },
  {
   "cell_type": "code",
   "execution_count": 13,
   "id": "008e582e-5b4c-4a23-b9f6-761129322fa8",
   "metadata": {},
   "outputs": [
    {
     "data": {
      "text/plain": [
       "array([0.13685244, 0.06887731, 0.07109366, 0.08081007, 0.05999668,\n",
       "       0.11260118, 0.24509571, 0.1340483 , 0.09062473], dtype=float32)"
      ]
     },
     "execution_count": 13,
     "metadata": {},
     "output_type": "execute_result"
    }
   ],
   "source": [
    "best_model.feature_importances_"
   ]
  },
  {
   "cell_type": "code",
   "execution_count": 14,
   "id": "de86d7c9-d84e-4913-99ba-8438991aac60",
   "metadata": {},
   "outputs": [
    {
     "data": {
      "text/html": [
       "<div>\n",
       "<style scoped>\n",
       "    .dataframe tbody tr th:only-of-type {\n",
       "        vertical-align: middle;\n",
       "    }\n",
       "\n",
       "    .dataframe tbody tr th {\n",
       "        vertical-align: top;\n",
       "    }\n",
       "\n",
       "    .dataframe thead th {\n",
       "        text-align: right;\n",
       "    }\n",
       "</style>\n",
       "<table border=\"1\" class=\"dataframe\">\n",
       "  <thead>\n",
       "    <tr style=\"text-align: right;\">\n",
       "      <th></th>\n",
       "      <th>RhythmScore</th>\n",
       "      <th>AudioLoudness</th>\n",
       "      <th>VocalContent</th>\n",
       "      <th>AcousticQuality</th>\n",
       "      <th>InstrumentalScore</th>\n",
       "      <th>LivePerformanceLikelihood</th>\n",
       "      <th>MoodScore</th>\n",
       "      <th>TrackDurationMs</th>\n",
       "      <th>Energy</th>\n",
       "    </tr>\n",
       "    <tr>\n",
       "      <th>id</th>\n",
       "      <th></th>\n",
       "      <th></th>\n",
       "      <th></th>\n",
       "      <th></th>\n",
       "      <th></th>\n",
       "      <th></th>\n",
       "      <th></th>\n",
       "      <th></th>\n",
       "      <th></th>\n",
       "    </tr>\n",
       "  </thead>\n",
       "  <tbody>\n",
       "    <tr>\n",
       "      <th>24994</th>\n",
       "      <td>0.583060</td>\n",
       "      <td>-9.269429</td>\n",
       "      <td>0.101150</td>\n",
       "      <td>0.053240</td>\n",
       "      <td>0.000001</td>\n",
       "      <td>0.232535</td>\n",
       "      <td>0.379670</td>\n",
       "      <td>344867.5465</td>\n",
       "      <td>0.863867</td>\n",
       "    </tr>\n",
       "    <tr>\n",
       "      <th>11129</th>\n",
       "      <td>0.462549</td>\n",
       "      <td>-7.028528</td>\n",
       "      <td>0.136623</td>\n",
       "      <td>0.010928</td>\n",
       "      <td>0.267938</td>\n",
       "      <td>0.341289</td>\n",
       "      <td>0.415446</td>\n",
       "      <td>270144.3437</td>\n",
       "      <td>0.639800</td>\n",
       "    </tr>\n",
       "    <tr>\n",
       "      <th>187859</th>\n",
       "      <td>0.703008</td>\n",
       "      <td>-1.357000</td>\n",
       "      <td>0.058488</td>\n",
       "      <td>0.223777</td>\n",
       "      <td>0.000001</td>\n",
       "      <td>0.156637</td>\n",
       "      <td>0.672463</td>\n",
       "      <td>264738.7939</td>\n",
       "      <td>0.737867</td>\n",
       "    </tr>\n",
       "    <tr>\n",
       "      <th>154769</th>\n",
       "      <td>0.558958</td>\n",
       "      <td>-12.948542</td>\n",
       "      <td>0.046433</td>\n",
       "      <td>0.392411</td>\n",
       "      <td>0.222384</td>\n",
       "      <td>0.147898</td>\n",
       "      <td>0.603788</td>\n",
       "      <td>221915.9513</td>\n",
       "      <td>0.057867</td>\n",
       "    </tr>\n",
       "    <tr>\n",
       "      <th>183606</th>\n",
       "      <td>0.914623</td>\n",
       "      <td>-3.673236</td>\n",
       "      <td>0.023500</td>\n",
       "      <td>0.222965</td>\n",
       "      <td>0.237300</td>\n",
       "      <td>0.079443</td>\n",
       "      <td>0.303056</td>\n",
       "      <td>321783.8640</td>\n",
       "      <td>0.490733</td>\n",
       "    </tr>\n",
       "  </tbody>\n",
       "</table>\n",
       "</div>"
      ],
      "text/plain": [
       "        RhythmScore  AudioLoudness  VocalContent  AcousticQuality  \\\n",
       "id                                                                  \n",
       "24994      0.583060      -9.269429      0.101150         0.053240   \n",
       "11129      0.462549      -7.028528      0.136623         0.010928   \n",
       "187859     0.703008      -1.357000      0.058488         0.223777   \n",
       "154769     0.558958     -12.948542      0.046433         0.392411   \n",
       "183606     0.914623      -3.673236      0.023500         0.222965   \n",
       "\n",
       "        InstrumentalScore  LivePerformanceLikelihood  MoodScore  \\\n",
       "id                                                                \n",
       "24994            0.000001                   0.232535   0.379670   \n",
       "11129            0.267938                   0.341289   0.415446   \n",
       "187859           0.000001                   0.156637   0.672463   \n",
       "154769           0.222384                   0.147898   0.603788   \n",
       "183606           0.237300                   0.079443   0.303056   \n",
       "\n",
       "        TrackDurationMs    Energy  \n",
       "id                                 \n",
       "24994       344867.5465  0.863867  \n",
       "11129       270144.3437  0.639800  \n",
       "187859      264738.7939  0.737867  \n",
       "154769      221915.9513  0.057867  \n",
       "183606      321783.8640  0.490733  "
      ]
     },
     "execution_count": 14,
     "metadata": {},
     "output_type": "execute_result"
    }
   ],
   "source": [
    "X_train.head()"
   ]
  },
  {
   "cell_type": "code",
   "execution_count": 15,
   "id": "03546140-aa39-464a-8948-ecdb7f279de9",
   "metadata": {},
   "outputs": [],
   "source": [
    "X_train_subset = X_train[['LivePerformanceLikelihood', 'MoodScore', 'TrackDurationMs']]\n",
    "X_test_subset = X_test[['LivePerformanceLikelihood', 'MoodScore', 'TrackDurationMs']]"
   ]
  },
  {
   "cell_type": "code",
   "execution_count": 16,
   "id": "700bea8f-21aa-4980-9aea-6ef9667fccbd",
   "metadata": {},
   "outputs": [
    {
     "name": "stdout",
     "output_type": "stream",
     "text": [
      "Best set of hyperparameters:  {'learning_rate': 0.01, 'max_depth': 3, 'subsample': 1}\n",
      "Best score:  -23.339882019805035\n"
     ]
    }
   ],
   "source": [
    "from sklearn.model_selection import GridSearchCV\n",
    "\n",
    "# Define the hyperparameter grid\n",
    "param_grid = {\n",
    "    'max_depth': [3, 5, 7],\n",
    "    'learning_rate': [0.1, 0.01, 0.001],\n",
    "    'subsample': [0.5, 0.7, 1]\n",
    "}\n",
    "\n",
    "# Create the XGBoost model objecat\n",
    "xgb_model = xgb.XGBRegressor()\n",
    "\n",
    "# Create the GridSearchCV object\n",
    "grid_search = GridSearchCV(xgb_model, param_grid, cv=5, scoring='neg_root_mean_squared_error')\n",
    "\n",
    "# Fit the GridSearchCV object to the training data\n",
    "grid_search.fit(X_train_subset, y_train)\n",
    "\n",
    "# Print the best set of hyperparameters and the corresponding score\n",
    "print(\"Best set of hyperparameters: \", grid_search.best_params_)\n",
    "print(\"Best score: \", grid_search.best_score_)"
   ]
  },
  {
   "cell_type": "code",
   "execution_count": 17,
   "id": "4f001f80-d7eb-4168-afb6-9659fc1538ee",
   "metadata": {},
   "outputs": [],
   "source": [
    "best_model = grid_search.best_estimator_"
   ]
  },
  {
   "cell_type": "code",
   "execution_count": 18,
   "id": "848a6a6a-d2e0-4fb0-b099-1786898cdbb1",
   "metadata": {},
   "outputs": [
    {
     "name": "stdout",
     "output_type": "stream",
     "text": [
      "rmse of the model is: 23.289610755532973\n",
      "r2 of the model is: 0.0002697676762549728\n"
     ]
    }
   ],
   "source": [
    "preds = best_model.predict(X_test_subset)\n",
    "preds = np.round(preds)\n",
    "rmse = root_mean_squared_error(y_test,preds)\n",
    "r2 = r2_score(y_test,preds)\n",
    "print('rmse of the model is:', rmse)\n",
    "print('r2 of the model is:', r2)"
   ]
  },
  {
   "cell_type": "code",
   "execution_count": 19,
   "id": "2071c30c-b87b-4e00-a199-76aaf3942d0b",
   "metadata": {},
   "outputs": [
    {
     "data": {
      "text/plain": [
       "<matplotlib.collections.PathCollection at 0x12fe2f6e0>"
      ]
     },
     "execution_count": 19,
     "metadata": {},
     "output_type": "execute_result"
    },
    {
     "data": {
      "image/png": "[encoded data removed]",
      "text/plain": [
       "<Figure size 640x480 with 1 Axes>"
      ]
     },
     "metadata": {},
     "output_type": "display_data"
    }
   ],
   "source": [
    "import matplotlib.pyplot as plt\n",
    "\n",
    "\n",
    "\n",
    "plt.scatter(range(len(y_test)), y_test)\n",
    "plt.scatter(range(len(y_test)), preds)"
   ]
  },
  {
   "cell_type": "code",
   "execution_count": 20,
   "id": "83ba89d9-17ad-4e87-bf6d-b867cde32700",
   "metadata": {},
   "outputs": [
    {
     "data": {
      "text/plain": [
       "array([0.23752432, 0.54087293, 0.22160277], dtype=float32)"
      ]
     },
     "execution_count": 20,
     "metadata": {},
     "output_type": "execute_result"
    }
   ],
   "source": [
    "best_model.feature_importances_"
   ]
  },
  {
   "cell_type": "code",
   "execution_count": 21,
   "id": "f83f5236-56d5-4448-9799-0180f8b7448f",
   "metadata": {},
   "outputs": [],
   "source": [
    "X_train_subset2 = X_train_subset[['LivePerformanceLikelihood', 'MoodScore']]\n",
    "X_test_subset2 = X_test_subset[['LivePerformanceLikelihood', 'MoodScore']]"
   ]
  },
  {
   "cell_type": "code",
   "execution_count": 22,
   "id": "1cee73e4-b4b1-45cd-b533-50c0f0a01fbb",
   "metadata": {},
   "outputs": [
    {
     "name": "stdout",
     "output_type": "stream",
     "text": [
      "Best set of hyperparameters:  {'learning_rate': 0.01, 'max_depth': 3, 'subsample': 1}\n",
      "Best score:  -23.34079589714519\n"
     ]
    }
   ],
   "source": [
    "from sklearn.model_selection import GridSearchCV\n",
    "\n",
    "# Define the hyperparameter grid\n",
    "param_grid = {\n",
    "    'max_depth': [3, 5, 7],\n",
    "    'learning_rate': [0.1, 0.01, 0.001],\n",
    "    'subsample': [0.5, 0.7, 1]\n",
    "}\n",
    "\n",
    "# Create the XGBoost model objecat\n",
    "xgb_model = xgb.XGBRegressor()\n",
    "\n",
    "# Create the GridSearchCV object\n",
    "grid_search = GridSearchCV(xgb_model, param_grid, cv=5, scoring='neg_root_mean_squared_error')\n",
    "\n",
    "# Fit the GridSearchCV object to the training data\n",
    "grid_search.fit(X_train_subset2, y_train)\n",
    "\n",
    "# Print the best set of hyperparameters and the corresponding score\n",
    "print(\"Best set of hyperparameters: \", grid_search.best_params_)\n",
    "print(\"Best score: \", grid_search.best_score_)"
   ]
  },
  {
   "cell_type": "code",
   "execution_count": 23,
   "id": "8098ace0-6af8-4e13-b1f4-67f42d83cc98",
   "metadata": {},
   "outputs": [],
   "source": [
    "best_model = grid_search.best_estimator_"
   ]
  },
  {
   "cell_type": "code",
   "execution_count": 24,
   "id": "f140ed77-334e-4ce8-9bfb-54b716355e85",
   "metadata": {},
   "outputs": [
    {
     "name": "stdout",
     "output_type": "stream",
     "text": [
      "rmse of the model is: 23.292057052553144\n",
      "r2 of the model is: 5.973707020112684e-05\n"
     ]
    }
   ],
   "source": [
    "preds = best_model.predict(X_test_subset2)\n",
    "preds = np.round(preds)\n",
    "rmse = root_mean_squared_error(y_test,preds)\n",
    "r2 = r2_score(y_test,preds)\n",
    "print('rmse of the model is:', rmse)\n",
    "print('r2 of the model is:', r2)"
   ]
  },
  {
   "cell_type": "code",
   "execution_count": 25,
   "id": "e5514cbf-af20-480e-b3a1-4b8c93f11dd2",
   "metadata": {},
   "outputs": [
    {
     "data": {
      "text/plain": [
       "<matplotlib.collections.PathCollection at 0x12fed76e0>"
      ]
     },
     "execution_count": 25,
     "metadata": {},
     "output_type": "execute_result"
    },
    {
     "data": {
      "image/png": "[encoded data removed]",
      "text/plain": [
       "<Figure size 640x480 with 1 Axes>"
      ]
     },
     "metadata": {},
     "output_type": "display_data"
    }
   ],
   "source": [
    "import matplotlib.pyplot as plt\n",
    "\n",
    "\n",
    "\n",
    "plt.scatter(range(len(y_test)), y_test)\n",
    "plt.scatter(range(len(y_test)), preds)"
   ]
  },
  {
   "cell_type": "code",
   "execution_count": 26,
   "id": "911fb4c0-7ce4-4962-9d48-90e7c744706e",
   "metadata": {},
   "outputs": [],
   "source": [
    "X_train_subset3 = X_train_subset['MoodScore']\n",
    "X_test_subset3 = X_test_subset['MoodScore']"
   ]
  },
  {
   "cell_type": "code",
   "execution_count": 27,
   "id": "96da29e0-7385-4a86-b220-ad6138bfe5a8",
   "metadata": {},
   "outputs": [
    {
     "name": "stdout",
     "output_type": "stream",
     "text": [
      "Best set of hyperparameters:  {'learning_rate': 0.01, 'max_depth': 3, 'subsample': 1}\n",
      "Best score:  -23.34170575737928\n"
     ]
    }
   ],
   "source": [
    "from sklearn.model_selection import GridSearchCV\n",
    "\n",
    "# Define the hyperparameter grid\n",
    "param_grid = {\n",
    "    'max_depth': [3, 5, 7],\n",
    "    'learning_rate': [0.1, 0.01, 0.001],\n",
    "    'subsample': [0.5, 0.7, 1]\n",
    "}\n",
    "\n",
    "# Create the XGBoost model objecat\n",
    "xgb_model = xgb.XGBRegressor()\n",
    "\n",
    "# Create the GridSearchCV object\n",
    "grid_search = GridSearchCV(xgb_model, param_grid, cv=5, scoring='neg_root_mean_squared_error')\n",
    "\n",
    "# Fit the GridSearchCV object to the training data\n",
    "grid_search.fit(X_train_subset3, y_train)\n",
    "\n",
    "# Print the best set of hyperparameters and the corresponding score\n",
    "print(\"Best set of hyperparameters: \", grid_search.best_params_)\n",
    "print(\"Best score: \", grid_search.best_score_)"
   ]
  },
  {
   "cell_type": "code",
   "execution_count": 28,
   "id": "2adf5137-d9b9-463d-93a0-91b963e51fa9",
   "metadata": {},
   "outputs": [],
   "source": [
    "best_model = grid_search.best_estimator_"
   ]
  },
  {
   "cell_type": "code",
   "execution_count": 29,
   "id": "85c98a51-924b-4da9-9c75-db43f1b38332",
   "metadata": {},
   "outputs": [
    {
     "name": "stdout",
     "output_type": "stream",
     "text": [
      "rmse of the model is: 23.292014436337233\n",
      "r2 of the model is: 6.339613999162275e-05\n"
     ]
    }
   ],
   "source": [
    "preds = best_model.predict(X_test_subset3)\n",
    "preds = np.round(preds)\n",
    "rmse = root_mean_squared_error(y_test,preds)\n",
    "r2 = r2_score(y_test,preds)\n",
    "print('rmse of the model is:', rmse)\n",
    "print('r2 of the model is:', r2)"
   ]
  },
  {
   "cell_type": "code",
   "execution_count": 30,
   "id": "2825d7a6-7d19-4888-8ac0-a61966de9c32",
   "metadata": {},
   "outputs": [
    {
     "data": {
      "text/plain": [
       "<matplotlib.collections.PathCollection at 0x162b276e0>"
      ]
     },
     "execution_count": 30,
     "metadata": {},
     "output_type": "execute_result"
    },
    {
     "data": {
      "image/png": "[encoded data removed]",
      "text/plain": [
       "<Figure size 640x480 with 1 Axes>"
      ]
     },
     "metadata": {},
     "output_type": "display_data"
    }
   ],
   "source": [
    "import matplotlib.pyplot as plt\n",
    "\n",
    "\n",
    "\n",
    "plt.scatter(range(len(y_test)), y_test)\n",
    "plt.scatter(range(len(y_test)), preds)"
   ]
  },
  {
   "cell_type": "code",
   "execution_count": 32,
   "id": "f753459f-6ee4-4eaf-87ee-39b791483b94",
   "metadata": {},
   "outputs": [],
   "source": [
    "from sklearn.preprocessing import StandardScaler\n",
    "\n",
    "scaler = StandardScaler()\n",
    "y_train_scaled = scaler.fit_transform(y_train.to_frame())\n",
    "y_test_scaled = scaler.fit_transform(y_test.to_frame())"
   ]
  },
  {
   "cell_type": "code",
   "execution_count": 33,
   "id": "632d5256-a49e-41ec-b2af-b91bfe5b8c72",
   "metadata": {},
   "outputs": [
    {
     "name": "stdout",
     "output_type": "stream",
     "text": [
      "Best set of hyperparameters:  {'learning_rate': 0.01, 'max_depth': 3, 'subsample': 1}\n",
      "Best score:  -0.9998239051913289\n"
     ]
    }
   ],
   "source": [
    "from sklearn.model_selection import GridSearchCV\n",
    "\n",
    "# Define the hyperparameter grid\n",
    "param_grid = {\n",
    "    'max_depth': [3, 5, 7],\n",
    "    'learning_rate': [0.1, 0.01, 0.001],\n",
    "    'subsample': [0.5, 0.7, 1]\n",
    "}\n",
    "\n",
    "# Create the XGBoost model objecat\n",
    "xgb_model = xgb.XGBRegressor()\n",
    "\n",
    "# Create the GridSearchCV object\n",
    "grid_search = GridSearchCV(xgb_model, param_grid, cv=5, scoring='neg_root_mean_squared_error')\n",
    "\n",
    "# Fit the GridSearchCV object to the training data\n",
    "grid_search.fit(X_train_subset, y_train_scaled)\n",
    "\n",
    "# Print the best set of hyperparameters and the corresponding score\n",
    "print(\"Best set of hyperparameters: \", grid_search.best_params_)\n",
    "print(\"Best score: \", grid_search.best_score_)"
   ]
  },
  {
   "cell_type": "code",
   "execution_count": 34,
   "id": "dc91c0de-7985-4ca6-8079-8d380a4484c6",
   "metadata": {},
   "outputs": [],
   "source": [
    "best_model = grid_search.best_estimator_"
   ]
  },
  {
   "cell_type": "code",
   "execution_count": 37,
   "id": "aa52159f-1812-4089-8764-bc1f20d541ba",
   "metadata": {},
   "outputs": [
    {
     "name": "stdout",
     "output_type": "stream",
     "text": [
      "rmse of the model is: 0.9999999999999999\n",
      "r2 of the model is: -25.95556039091923\n"
     ]
    }
   ],
   "source": [
    "preds = best_model.predict(X_test_subset)\n",
    "preds = np.round(preds)\n",
    "rmse = root_mean_squared_error(y_test_scaled, preds)\n",
    "r2 = r2_score(y_test,preds)\n",
    "print('rmse of the model is:', rmse)\n",
    "print('r2 of the model is:', r2)"
   ]
  },
  {
   "cell_type": "code",
   "execution_count": 38,
   "id": "9f9857db-b420-4dfa-b28b-2f01217a7f2e",
   "metadata": {},
   "outputs": [
    {
     "data": {
      "text/plain": [
       "<matplotlib.collections.PathCollection at 0x162fcd820>"
      ]
     },
     "execution_count": 38,
     "metadata": {},
     "output_type": "execute_result"
    },
    {
     "data": {
      "image/png": "[encoded data removed]",
      "text/plain": [
       "<Figure size 640x480 with 1 Axes>"
      ]
     },
     "metadata": {},
     "output_type": "display_data"
    }
   ],
   "source": [
    "plt.scatter(range(len(y_test_scaled)), y_test_scaled)\n",
    "plt.scatter(range(len(y_test_scaled)), preds)"
   ]
  },
  {
   "cell_type": "code",
   "execution_count": null,
   "id": "2ce76432-fd61-4cd2-8fb3-5916fbb792c6",
   "metadata": {},
   "outputs": [],
   "source": []
  }
 ],
 "metadata": {
  "kernelspec": {
   "display_name": "Python 3 (ipykernel)",
   "language": "python",
   "name": "python3"
  },
  "language_info": {
   "codemirror_mode": {
    "name": "ipython",
    "version": 3
   },
   "file_extension": ".py",
   "mimetype": "text/x-python",
   "name": "python",
   "nbconvert_exporter": "python",
   "pygments_lexer": "ipython3",
   "version": "3.12.11"
  }
 },
 "nbformat": 4,
 "nbformat_minor": 5
}
