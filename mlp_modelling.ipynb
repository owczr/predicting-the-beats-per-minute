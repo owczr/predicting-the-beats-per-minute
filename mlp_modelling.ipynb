{
 "cells": [
  {
   "cell_type": "code",
   "execution_count": 1,
   "id": "b9a2064a-5af8-4fce-9932-eedf8132d621",
   "metadata": {},
   "outputs": [],
   "source": [
    "import pandas as pd\n",
    "\n",
    "\n",
    "df = pd.read_csv(\"data/preprocessed_train.csv\", index_col=\"id\")"
   ]
  },
  {
   "cell_type": "code",
   "execution_count": 2,
   "id": "d231dd44-0d67-4e71-a4f3-5cc6f473e3ec",
   "metadata": {},
   "outputs": [
    {
     "data": {
      "text/html": [
       "<div>\n",
       "<style scoped>\n",
       "    .dataframe tbody tr th:only-of-type {\n",
       "        vertical-align: middle;\n",
       "    }\n",
       "\n",
       "    .dataframe tbody tr th {\n",
       "        vertical-align: top;\n",
       "    }\n",
       "\n",
       "    .dataframe thead th {\n",
       "        text-align: right;\n",
       "    }\n",
       "</style>\n",
       "<table border=\"1\" class=\"dataframe\">\n",
       "  <thead>\n",
       "    <tr style=\"text-align: right;\">\n",
       "      <th></th>\n",
       "      <th>RhythmScore</th>\n",
       "      <th>AudioLoudness</th>\n",
       "      <th>VocalContent</th>\n",
       "      <th>AcousticQuality</th>\n",
       "      <th>InstrumentalScore</th>\n",
       "      <th>LivePerformanceLikelihood</th>\n",
       "      <th>MoodScore</th>\n",
       "      <th>TrackDurationMs</th>\n",
       "      <th>Energy</th>\n",
       "      <th>BeatsPerMinute</th>\n",
       "    </tr>\n",
       "    <tr>\n",
       "      <th>id</th>\n",
       "      <th></th>\n",
       "      <th></th>\n",
       "      <th></th>\n",
       "      <th></th>\n",
       "      <th></th>\n",
       "      <th></th>\n",
       "      <th></th>\n",
       "      <th></th>\n",
       "      <th></th>\n",
       "      <th></th>\n",
       "    </tr>\n",
       "  </thead>\n",
       "  <tbody>\n",
       "    <tr>\n",
       "      <th>0</th>\n",
       "      <td>0.603610</td>\n",
       "      <td>-7.636942</td>\n",
       "      <td>0.023500</td>\n",
       "      <td>0.000005</td>\n",
       "      <td>0.000001</td>\n",
       "      <td>0.051385</td>\n",
       "      <td>0.409866</td>\n",
       "      <td>290715.6450</td>\n",
       "      <td>0.826267</td>\n",
       "      <td>147.53020</td>\n",
       "    </tr>\n",
       "    <tr>\n",
       "      <th>1</th>\n",
       "      <td>0.639451</td>\n",
       "      <td>-16.267598</td>\n",
       "      <td>0.071520</td>\n",
       "      <td>0.444929</td>\n",
       "      <td>0.349414</td>\n",
       "      <td>0.170522</td>\n",
       "      <td>0.651010</td>\n",
       "      <td>164519.5174</td>\n",
       "      <td>0.145400</td>\n",
       "      <td>136.15963</td>\n",
       "    </tr>\n",
       "    <tr>\n",
       "      <th>3</th>\n",
       "      <td>0.734463</td>\n",
       "      <td>-1.357000</td>\n",
       "      <td>0.052965</td>\n",
       "      <td>0.001651</td>\n",
       "      <td>0.159717</td>\n",
       "      <td>0.086366</td>\n",
       "      <td>0.278745</td>\n",
       "      <td>225567.4651</td>\n",
       "      <td>0.487467</td>\n",
       "      <td>147.91212</td>\n",
       "    </tr>\n",
       "    <tr>\n",
       "      <th>4</th>\n",
       "      <td>0.532968</td>\n",
       "      <td>-13.056437</td>\n",
       "      <td>0.023500</td>\n",
       "      <td>0.068687</td>\n",
       "      <td>0.000001</td>\n",
       "      <td>0.331345</td>\n",
       "      <td>0.477769</td>\n",
       "      <td>213960.6789</td>\n",
       "      <td>0.947333</td>\n",
       "      <td>89.58511</td>\n",
       "    </tr>\n",
       "    <tr>\n",
       "      <th>5</th>\n",
       "      <td>0.594579</td>\n",
       "      <td>-11.715431</td>\n",
       "      <td>0.101701</td>\n",
       "      <td>0.000005</td>\n",
       "      <td>0.259634</td>\n",
       "      <td>0.024300</td>\n",
       "      <td>0.639254</td>\n",
       "      <td>161012.2221</td>\n",
       "      <td>0.938333</td>\n",
       "      <td>151.43602</td>\n",
       "    </tr>\n",
       "  </tbody>\n",
       "</table>\n",
       "</div>"
      ],
      "text/plain": [
       "    RhythmScore  AudioLoudness  VocalContent  AcousticQuality  \\\n",
       "id                                                              \n",
       "0      0.603610      -7.636942      0.023500         0.000005   \n",
       "1      0.639451     -16.267598      0.071520         0.444929   \n",
       "3      0.734463      -1.357000      0.052965         0.001651   \n",
       "4      0.532968     -13.056437      0.023500         0.068687   \n",
       "5      0.594579     -11.715431      0.101701         0.000005   \n",
       "\n",
       "    InstrumentalScore  LivePerformanceLikelihood  MoodScore  TrackDurationMs  \\\n",
       "id                                                                             \n",
       "0            0.000001                   0.051385   0.409866      290715.6450   \n",
       "1            0.349414                   0.170522   0.651010      164519.5174   \n",
       "3            0.159717                   0.086366   0.278745      225567.4651   \n",
       "4            0.000001                   0.331345   0.477769      213960.6789   \n",
       "5            0.259634                   0.024300   0.639254      161012.2221   \n",
       "\n",
       "      Energy  BeatsPerMinute  \n",
       "id                            \n",
       "0   0.826267       147.53020  \n",
       "1   0.145400       136.15963  \n",
       "3   0.487467       147.91212  \n",
       "4   0.947333        89.58511  \n",
       "5   0.938333       151.43602  "
      ]
     },
     "execution_count": 2,
     "metadata": {},
     "output_type": "execute_result"
    }
   ],
   "source": [
    "df.head()"
   ]
  },
  {
   "cell_type": "code",
   "execution_count": 3,
   "id": "f6fbae50-b4ad-4fce-b6c3-063b138c4dbe",
   "metadata": {},
   "outputs": [],
   "source": [
    "y = df['BeatsPerMinute']\n",
    "X = df.drop(columns=['BeatsPerMinute'])\n",
    "X = X[['LivePerformanceLikelihood', 'MoodScore', 'TrackDurationMs']]"
   ]
  },
  {
   "cell_type": "code",
   "execution_count": 4,
   "id": "6cd8c5e7-f7b4-458f-ad7e-0801c98682c8",
   "metadata": {},
   "outputs": [],
   "source": [
    "from sklearn.preprocessing import StandardScaler\n",
    "\n",
    "\n",
    "X_scaler = StandardScaler()\n",
    "y_scaler = StandardScaler()\n",
    "\n",
    "X_scaled = X_scaler.fit_transform(X)\n",
    "y_scaled = y_scaler.fit_transform(y.to_frame())"
   ]
  },
  {
   "cell_type": "code",
   "execution_count": 5,
   "id": "f037f3d2-7ab9-4927-a4fb-e7cde6c67c45",
   "metadata": {},
   "outputs": [],
   "source": [
    "from sklearn.model_selection import train_test_split\n",
    "\n",
    "X_train, X_test, y_train, y_test = train_test_split(X, y, test_size=0.4, random_state=0)\n",
    "X_test, X_val, y_test, y_val = train_test_split(X_test, y_test, test_size=0.5, random_state=0)"
   ]
  },
  {
   "cell_type": "code",
   "execution_count": 6,
   "id": "88fc9769-005c-4c23-b187-e629f9da42c3",
   "metadata": {},
   "outputs": [],
   "source": [
    "import torch\n",
    "import torch.nn as nn\n",
    "\n",
    "\n",
    "X_train_tensor = torch.from_numpy(X_train.values)\n",
    "X_test_tensor = torch.from_numpy(X_test.values)\n",
    "X_val_tensor = torch.from_numpy(X_val.values)\n",
    "\n",
    "y_train_tensor = torch.from_numpy(y_train.values)\n",
    "y_test_tensor = torch.from_numpy(y_test.values)\n",
    "y_val_tensor = torch.from_numpy(y_val.values)"
   ]
  },
  {
   "cell_type": "code",
   "execution_count": 7,
   "id": "801b56d2-64cb-4e68-a077-89c4785a9a95",
   "metadata": {},
   "outputs": [],
   "source": [
    "y_train_tensor = y_train_tensor.unsqueeze(1)\n",
    "y_test_tensor = y_test_tensor.unsqueeze(1)\n",
    "y_val_tensor = y_val_tensor.unsqueeze(1)"
   ]
  },
  {
   "cell_type": "code",
   "execution_count": 8,
   "id": "1bed2cb4-e12f-4b3d-ba5b-1e5a7b703bd6",
   "metadata": {},
   "outputs": [],
   "source": [
    "X_train_tensor = X_train_tensor.to(torch.float32).to(\"mps\")\n",
    "X_test_tensor = X_test_tensor.to(torch.float32).to(\"mps\")\n",
    "X_val_tensor = X_val_tensor.to(torch.float32).to(\"mps\")\n",
    "\n",
    "y_train_tensor = y_train_tensor.to(torch.float32).to(\"mps\")\n",
    "y_test_tensor = y_test_tensor.to(torch.float32).to(\"mps\")\n",
    "y_val_tensor = y_val_tensor.to(torch.float32).to(\"mps\")"
   ]
  },
  {
   "cell_type": "code",
   "execution_count": 9,
   "id": "bfe46300-2bd7-4768-9e66-bdebb4a0fe57",
   "metadata": {},
   "outputs": [],
   "source": [
    "model = nn.Sequential(\n",
    "    nn.Linear(3, 8),\n",
    "    nn.ReLU(),\n",
    "    nn.Linear(8, 1),\n",
    "    nn.ReLU(),\n",
    "    nn.Linear(1, 8),\n",
    "    nn.ReLU(),\n",
    "    nn.Linear(8, 1),\n",
    ")\n",
    "\n",
    "loss_fn = nn.MSELoss()\n",
    "optimizer = torch.optim.Adam(model.parameters(), lr=0.001)"
   ]
  },
  {
   "cell_type": "code",
   "execution_count": 10,
   "id": "d19f0d54-5f34-499a-8225-7031fdb09b5d",
   "metadata": {},
   "outputs": [
    {
     "data": {
      "text/plain": [
       "Sequential(\n",
       "  (0): Linear(in_features=3, out_features=8, bias=True)\n",
       "  (1): ReLU()\n",
       "  (2): Linear(in_features=8, out_features=1, bias=True)\n",
       "  (3): ReLU()\n",
       "  (4): Linear(in_features=1, out_features=8, bias=True)\n",
       "  (5): ReLU()\n",
       "  (6): Linear(in_features=8, out_features=1, bias=True)\n",
       ")"
      ]
     },
     "execution_count": 10,
     "metadata": {},
     "output_type": "execute_result"
    }
   ],
   "source": [
    "model.to(\"mps\")"
   ]
  },
  {
   "cell_type": "code",
   "execution_count": 11,
   "id": "5e76cfc4-f394-4b01-b2e6-2ae57f0e1201",
   "metadata": {},
   "outputs": [],
   "source": [
    "num_epochs = 100"
   ]
  },
  {
   "cell_type": "code",
   "execution_count": 12,
   "id": "2e84a2e9-58a7-41eb-be0a-d16d76b92319",
   "metadata": {},
   "outputs": [],
   "source": [
    "train_loss = []\n",
    "val_loss = []\n",
    "\n",
    "for n in range(num_epochs):\n",
    "    y_pred = model(X_train_tensor)\n",
    "    loss = loss_fn(y_pred, y_train_tensor)\n",
    "    train_loss.append(loss.cpu().detach())\n",
    "    optimizer.zero_grad()\n",
    "    loss.backward()\n",
    "    optimizer.step()\n",
    "\n",
    "    y_pred = model(X_val_tensor)\n",
    "    loss = loss_fn(y_pred, y_val_tensor)\n",
    "    val_loss.append(loss.cpu().detach())"
   ]
  },
  {
   "cell_type": "code",
   "execution_count": 13,
   "id": "51d18b11-8334-4ef9-ae9f-04288767c518",
   "metadata": {},
   "outputs": [
    {
     "name": "stdout",
     "output_type": "stream",
     "text": [
      "rmse of the model is: 120.92192077636719\n",
      "r2 of the model is: -26.108192443847656\n"
     ]
    }
   ],
   "source": [
    "from sklearn.metrics import root_mean_squared_error, r2_score\n",
    "\n",
    "\n",
    "preds = model(X_test_tensor)\n",
    "rmse = root_mean_squared_error(y_test_tensor.cpu().detach(), preds.cpu().detach())\n",
    "r2 = r2_score(y_test_tensor.cpu().detach(), preds.cpu().detach())\n",
    "print('rmse of the model is:', rmse)\n",
    "print('r2 of the model is:', r2)"
   ]
  },
  {
   "cell_type": "code",
   "execution_count": 14,
   "id": "3b1fafac-b574-47d9-a166-a73b64a34f6c",
   "metadata": {},
   "outputs": [
    {
     "data": {
      "text/plain": [
       "[<matplotlib.lines.Line2D at 0x11ecd3b10>]"
      ]
     },
     "execution_count": 14,
     "metadata": {},
     "output_type": "execute_result"
    },
    {
     "data": {
      "image/png": "[encoded data removed]",
      "text/plain": [
       "<Figure size 640x480 with 1 Axes>"
      ]
     },
     "metadata": {},
     "output_type": "display_data"
    }
   ],
   "source": [
    "import matplotlib.pyplot as plt\n",
    "\n",
    "\n",
    "plt.plot(range(len(train_loss)), train_loss)\n",
    "plt.plot(range(len(val_loss)), val_loss)"
   ]
  },
  {
   "cell_type": "code",
   "execution_count": null,
   "id": "a4ebe066-cef3-4693-ae06-fa38dabe8f78",
   "metadata": {},
   "outputs": [],
   "source": []
  },
  {
   "cell_type": "code",
   "execution_count": null,
   "id": "8a728455-c022-4416-8c46-b1d2860e05a5",
   "metadata": {},
   "outputs": [],
   "source": []
  }
 ],
 "metadata": {
  "kernelspec": {
   "display_name": "Python 3 (ipykernel)",
   "language": "python",
   "name": "python3"
  },
  "language_info": {
   "codemirror_mode": {
    "name": "ipython",
    "version": 3
   },
   "file_extension": ".py",
   "mimetype": "text/x-python",
   "name": "python",
   "nbconvert_exporter": "python",
   "pygments_lexer": "ipython3",
   "version": "3.13.7"
  }
 },
 "nbformat": 4,
 "nbformat_minor": 5
}
